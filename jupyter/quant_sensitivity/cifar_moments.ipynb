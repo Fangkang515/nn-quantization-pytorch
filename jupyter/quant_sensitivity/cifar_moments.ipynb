{
 "cells": [
  {
   "cell_type": "code",
   "execution_count": 27,
   "metadata": {},
   "outputs": [],
   "source": [
    "import os\n",
    "import torch\n",
    "from torchvision.models import resnet50\n",
    "import numpy as np\n",
    "import matplotlib.pyplot as plt\n",
    "from pylab import rcParams\n",
    "from scipy.optimize import minimize_scalar\n",
    "from scipy.misc import derivative\n",
    "import pandas as pd\n",
    "import matplotlib.pyplot as plt\n",
    "import matplotlib\n",
    "from pylab import rcParams\n",
    "import pickle\n",
    "torch.set_printoptions(sci_mode=False)"
   ]
  },
  {
   "cell_type": "code",
   "execution_count": 2,
   "metadata": {},
   "outputs": [
    {
     "data": {
      "text/plain": [
       "['stats_w2.pkl',\n",
       " 'stats_w5.pkl',\n",
       " 'stats_w8.pkl',\n",
       " 'stats_w3.pkl',\n",
       " 'stats_w4.pkl']"
      ]
     },
     "execution_count": 2,
     "metadata": {},
     "output_type": "execute_result"
    }
   ],
   "source": [
    "ckp_path = os.path.join('/home/cvds_lab/mxt-sim/stats/')\n",
    "os.listdir(ckp_path)"
   ]
  },
  {
   "cell_type": "code",
   "execution_count": 214,
   "metadata": {},
   "outputs": [
    {
     "data": {
      "text/plain": [
       "dict_keys(['cv', 'kurtosis', 'm8', 'mean', 'skewness', 'm6', 'var', 'm5', 'm7'])"
      ]
     },
     "execution_count": 214,
     "metadata": {},
     "output_type": "execute_result"
    }
   ],
   "source": [
    "pkl_w2 = pickle.load(open(os.path.join(ckp_path, 'stats_w2.pkl'), 'rb'))\n",
    "pkl_w3 = pickle.load(open(os.path.join(ckp_path, 'stats_w3.pkl'), 'rb'))\n",
    "pkl_w4 = pickle.load(open(os.path.join(ckp_path, 'stats_w4.pkl'), 'rb'))\n",
    "pkl_w5 = pickle.load(open(os.path.join(ckp_path, 'stats_w5.pkl'), 'rb'))\n",
    "pkl_w8 = pickle.load(open(os.path.join(ckp_path, 'stats_w8.pkl'), 'rb'))\n",
    "pkl_w2.keys()"
   ]
  },
  {
   "cell_type": "code",
   "execution_count": 145,
   "metadata": {},
   "outputs": [
    {
     "data": {
      "text/plain": [
       "dict_keys(['layer1.1.relu1', 'layer1.1.relu2', 'layer2.0.relu1', 'layer3.0.relu1', 'layer1.0.relu2', 'layer2.0.relu2', 'layer2.1.relu2', 'layer3.1.relu1', 'layer1.0.relu1', 'layer2.1.relu1', 'layer3.0.relu2'])"
      ]
     },
     "execution_count": 145,
     "metadata": {},
     "output_type": "execute_result"
    }
   ],
   "source": [
    "pkl_w2['mean'].keys()"
   ]
  },
  {
   "cell_type": "code",
   "execution_count": 245,
   "metadata": {},
   "outputs": [],
   "source": [
    "def list_mean(l):\n",
    "    if len(l) == 0:\n",
    "        return None\n",
    "\n",
    "    res = l[0].clone()\n",
    "    for t in l[1:]:\n",
    "        res += t\n",
    "    return res / len(l)\n",
    "\n",
    "def rel_change(p1, p2, stat_name, stat_id):\n",
    "    t1 = list_mean(p1[stat_name][stat_id])\n",
    "    t2 = list_mean(p2[stat_name][stat_id])\n",
    "    p = 1\n",
    "    return torch.abs(torch.norm(t1, p=p) - torch.norm(t2, p=p)) / torch.norm(t1, p=p)\n",
    "\n",
    "def rel_change_df(p1, p2):\n",
    "    df = pd.DataFrame(index=[\"L{}\".format(l) for l in range(len(p1[stats[0]]))], columns=stats)\n",
    "    for s in stats:\n",
    "        arr = []\n",
    "        for id_ in p1[s]:\n",
    "            arr.append(rel_change(p1, p2, s, id_).item())\n",
    "        df[s] = arr\n",
    "    return df\n",
    "\n",
    "def rel_change_plot(df):\n",
    "    font = {'weight' : 'normal', 'size': 20, 'weight': 'bold'}\n",
    "    matplotlib.rc('font', **font)\n",
    "\n",
    "    ind = np.arange(len(df))    # the x locations for the groups\n",
    "    width = 0.15\n",
    "\n",
    "    plt.bar(ind, df['mean'], width)\n",
    "    plt.bar(ind + width, df['var'], width)\n",
    "    plt.bar(ind + 2*width, df['skewness'], width)\n",
    "    plt.bar(ind + 3*width, df['kurtosis'], width)\n",
    "\n",
    "    plt.ylabel('moments change %', fontsize=25)\n",
    "    plt.xticks(ind, df.index);\n",
    "    plt.legend(df.columns, loc='upper center', bbox_to_anchor=(0.5, 1.15), ncol=4, fancybox=True, shadow=True);"
   ]
  },
  {
   "cell_type": "code",
   "execution_count": 180,
   "metadata": {},
   "outputs": [
    {
     "name": "stdout",
     "output_type": "stream",
     "text": [
      "tensor(3.23602, device='cuda:1')\n",
      "tensor(2.71344, device='cuda:1')\n",
      "tensor(2.85616, device='cuda:1')\n",
      "tensor(2.93609, device='cuda:1')\n",
      "tensor(2.92500, device='cuda:1')\n"
     ]
    }
   ],
   "source": [
    "id_ = 'layer1.1.relu1'\n",
    "s = 'mean'\n",
    "print(torch.norm(list_mean(pkl_w2[s][id_]), p=1))\n",
    "print(torch.norm(list_mean(pkl_w3[s][id_]), p=1))\n",
    "print(torch.norm(list_mean(pkl_w4[s][id_]), p=1))\n",
    "print(torch.norm(list_mean(pkl_w5[s][id_]), p=1))\n",
    "print(torch.norm(list_mean(pkl_w8[s][id_]), p=1))"
   ]
  },
  {
   "cell_type": "code",
   "execution_count": 126,
   "metadata": {},
   "outputs": [
    {
     "data": {
      "text/plain": [
       "tensor(0.93973, device='cuda:1')"
      ]
     },
     "execution_count": 126,
     "metadata": {},
     "output_type": "execute_result"
    }
   ],
   "source": [
    "((list_mean(pkl_w2[s][id_]) - list_mean(pkl_w3[s][id_])) / (list_mean(pkl_w2[s][id_]) - list_mean(pkl_w5[s][id_]))).abs().mean()"
   ]
  },
  {
   "cell_type": "code",
   "execution_count": 82,
   "metadata": {},
   "outputs": [
    {
     "data": {
      "text/plain": [
       "tensor([-0.26728, -0.31166,  0.14922,  0.88064,  0.30296,  0.04707,  0.49154,\n",
       "         0.37578,  0.53003,  0.48319,  0.28984, -0.34749,  0.03879,  0.45769,\n",
       "        -0.08725, -0.14651], device='cuda:1')"
      ]
     },
     "execution_count": 82,
     "metadata": {},
     "output_type": "execute_result"
    }
   ],
   "source": [
    "list_mean(pkl_w2['mean'][id_]) - list_mean(pkl_w4['mean'][id_])"
   ]
  },
  {
   "cell_type": "code",
   "execution_count": 191,
   "metadata": {},
   "outputs": [
    {
     "name": "stdout",
     "output_type": "stream",
     "text": [
      "mean change: 0.0338\n",
      "var change: 0.1244\n",
      "skewness change: 0.0424\n",
      "kurtosis change: 0.0729\n",
      "m5 change: 0.1511\n",
      "m6 change: 0.2649\n",
      "m7 change: 0.4540\n",
      "m8 change: 0.7314\n",
      "\n",
      "-------------\n",
      "\n",
      "mean change: 0.0215\n",
      "var change: 0.1117\n",
      "skewness change: 0.0102\n",
      "kurtosis change: 0.0221\n",
      "m5 change: 0.0375\n",
      "m6 change: 0.0710\n",
      "m7 change: 0.1309\n",
      "m8 change: 0.2256\n",
      "\n",
      "-------------\n",
      "\n",
      "mean change: 0.0253\n",
      "var change: 0.1051\n",
      "skewness change: 0.0047\n",
      "kurtosis change: 0.0117\n",
      "m5 change: 0.0177\n",
      "m6 change: 0.0395\n",
      "m7 change: 0.0826\n",
      "m8 change: 0.1552\n",
      "\n",
      "-------------\n",
      "\n",
      "mean change: 0.0322\n",
      "var change: 0.1075\n",
      "skewness change: 0.0097\n",
      "kurtosis change: 0.0110\n",
      "m5 change: 0.0158\n",
      "m6 change: 0.0312\n",
      "m7 change: 0.0657\n",
      "m8 change: 0.1254\n"
     ]
    }
   ],
   "source": [
    "stats = ['mean', 'var', 'skewness', 'kurtosis', 'm5', 'm6', 'm7', 'm8']\n",
    "id_ = 'layer1.1.relu2'\n",
    "for s in stats:\n",
    "    print(\"{} change: {:.4f}\".format(s, rel_change(pkl_w2, pkl_w3, s, id_).item()))\n",
    "    \n",
    "print(\"\\n-------------\\n\")\n",
    "for s in stats:\n",
    "    print(\"{} change: {:.4f}\".format(s, rel_change(pkl_w2, pkl_w4, s, id_).item()))\n",
    "    \n",
    "print(\"\\n-------------\\n\")\n",
    "for s in stats:\n",
    "    print(\"{} change: {:.4f}\".format(s, rel_change(pkl_w2, pkl_w5, s, id_).item()))\n",
    "\n",
    "print(\"\\n-------------\\n\")\n",
    "for s in stats:\n",
    "    print(\"{} change: {:.4f}\".format(s, rel_change(pkl_w2, pkl_w8, s, id_).item()))"
   ]
  },
  {
   "cell_type": "code",
   "execution_count": 263,
   "metadata": {},
   "outputs": [
    {
     "data": {
      "image/png": "[encoded data removed]",
      "text/plain": [
       "<matplotlib.figure.Figure at 0x7f79e8d8a048>"
      ]
     },
     "metadata": {
      "needs_background": "light"
     },
     "output_type": "display_data"
    }
   ],
   "source": [
    "rcParams['figure.figsize'] = 12, 6\n",
    "df = rel_change_df(pkl_w2, pkl_w3)\n",
    "rel_change_plot(df)"
   ]
  },
  {
   "cell_type": "code",
   "execution_count": 264,
   "metadata": {},
   "outputs": [
    {
     "data": {
      "image/png": "[encoded data removed]",
      "text/plain": [
       "<matplotlib.figure.Figure at 0x7f79e932d0f0>"
      ]
     },
     "metadata": {
      "needs_background": "light"
     },
     "output_type": "display_data"
    }
   ],
   "source": [
    "rcParams['figure.figsize'] = 12, 6\n",
    "df = rel_change_df(pkl_w2, pkl_w4)\n",
    "rel_change_plot(df)"
   ]
  },
  {
   "cell_type": "code",
   "execution_count": 255,
   "metadata": {},
   "outputs": [
    {
     "data": {
      "text/plain": [
       "dict_keys(['layer3.1.conv1', 'layer2.0.conv2', 'layer2.0.conv1', 'layer1.1.conv2', 'layer2.1.conv2', 'layer3.0.downsample.0', 'layer1.0.conv1', 'layer1.0.conv2', 'layer1.1.conv1', 'layer3.0.conv2', 'layer2.0.downsample.0', 'layer2.1.conv1', 'layer3.0.conv1'])"
      ]
     },
     "execution_count": 255,
     "metadata": {},
     "output_type": "execute_result"
    }
   ],
   "source": [
    "pkl_w2['kurtosis'].keys()"
   ]
  },
  {
   "cell_type": "code",
   "execution_count": 266,
   "metadata": {},
   "outputs": [
    {
     "name": "stdout",
     "output_type": "stream",
     "text": [
      "83.77379608154297\n",
      "84.46076965332031\n",
      "84.03005981445312\n"
     ]
    }
   ],
   "source": [
    "l = 'layer1.1.conv1'\n",
    "print(torch.norm(list_mean(pkl_w2['kurtosis'][l]), p=1).item())\n",
    "print(torch.norm(list_mean(pkl_w3['kurtosis'][l]), p=1).item())\n",
    "print(torch.norm(list_mean(pkl_w4['kurtosis'][l]), p=1).item())"
   ]
  },
  {
   "cell_type": "code",
   "execution_count": 259,
   "metadata": {},
   "outputs": [],
   "source": [
    "# pkl_w2['kurtosis']\n",
    "\n",
    "# df = pd.DataFrame(index=[\"L{}\".format(l) for l in range(len(pkl_w2['kurtosis']))], columns=['kutosis'])\n",
    "# arr = []\n",
    "# for id_ in pkl_w2['kurtosis']:\n",
    "#     arr.append(list_mean(pkl_w2['kurtosis'][id_]).item())\n",
    "# df['kurtosis'] = arr\n",
    "# df"
   ]
  },
  {
   "cell_type": "code",
   "execution_count": 197,
   "metadata": {},
   "outputs": [
    {
     "data": {
      "text/html": [
       "<div>\n",
       "<style scoped>\n",
       "    .dataframe tbody tr th:only-of-type {\n",
       "        vertical-align: middle;\n",
       "    }\n",
       "\n",
       "    .dataframe tbody tr th {\n",
       "        vertical-align: top;\n",
       "    }\n",
       "\n",
       "    .dataframe thead th {\n",
       "        text-align: right;\n",
       "    }\n",
       "</style>\n",
       "<table border=\"1\" class=\"dataframe\">\n",
       "  <thead>\n",
       "    <tr style=\"text-align: right;\">\n",
       "      <th></th>\n",
       "      <th>mean</th>\n",
       "      <th>var</th>\n",
       "      <th>skewness</th>\n",
       "      <th>kurtosis</th>\n",
       "      <th>m5</th>\n",
       "      <th>m6</th>\n",
       "      <th>m7</th>\n",
       "      <th>m8</th>\n",
       "    </tr>\n",
       "  </thead>\n",
       "  <tbody>\n",
       "    <tr>\n",
       "      <th>L0</th>\n",
       "      <td>0.117386</td>\n",
       "      <td>0.143803</td>\n",
       "      <td>0.034038</td>\n",
       "      <td>0.051966</td>\n",
       "      <td>0.068505</td>\n",
       "      <td>0.069985</td>\n",
       "      <td>0.056823</td>\n",
       "      <td>0.027823</td>\n",
       "    </tr>\n",
       "    <tr>\n",
       "      <th>L1</th>\n",
       "      <td>0.021542</td>\n",
       "      <td>0.111707</td>\n",
       "      <td>0.010218</td>\n",
       "      <td>0.022103</td>\n",
       "      <td>0.037544</td>\n",
       "      <td>0.071017</td>\n",
       "      <td>0.130934</td>\n",
       "      <td>0.225557</td>\n",
       "    </tr>\n",
       "    <tr>\n",
       "      <th>L2</th>\n",
       "      <td>0.162736</td>\n",
       "      <td>0.028315</td>\n",
       "      <td>0.064048</td>\n",
       "      <td>0.004989</td>\n",
       "      <td>0.075518</td>\n",
       "      <td>0.243867</td>\n",
       "      <td>0.511134</td>\n",
       "      <td>0.902839</td>\n",
       "    </tr>\n",
       "    <tr>\n",
       "      <th>L3</th>\n",
       "      <td>0.002038</td>\n",
       "      <td>0.093723</td>\n",
       "      <td>0.073394</td>\n",
       "      <td>0.216835</td>\n",
       "      <td>0.451836</td>\n",
       "      <td>0.822670</td>\n",
       "      <td>1.400561</td>\n",
       "      <td>2.303755</td>\n",
       "    </tr>\n",
       "    <tr>\n",
       "      <th>L4</th>\n",
       "      <td>0.054838</td>\n",
       "      <td>0.050922</td>\n",
       "      <td>0.063834</td>\n",
       "      <td>0.449967</td>\n",
       "      <td>1.583829</td>\n",
       "      <td>3.766730</td>\n",
       "      <td>7.460591</td>\n",
       "      <td>13.369462</td>\n",
       "    </tr>\n",
       "    <tr>\n",
       "      <th>L5</th>\n",
       "      <td>0.012432</td>\n",
       "      <td>0.088536</td>\n",
       "      <td>0.049801</td>\n",
       "      <td>0.105358</td>\n",
       "      <td>0.160624</td>\n",
       "      <td>0.207967</td>\n",
       "      <td>0.241091</td>\n",
       "      <td>0.265175</td>\n",
       "    </tr>\n",
       "    <tr>\n",
       "      <th>L6</th>\n",
       "      <td>0.014357</td>\n",
       "      <td>0.107800</td>\n",
       "      <td>0.014950</td>\n",
       "      <td>0.069261</td>\n",
       "      <td>0.130192</td>\n",
       "      <td>0.231525</td>\n",
       "      <td>0.367360</td>\n",
       "      <td>0.561099</td>\n",
       "    </tr>\n",
       "    <tr>\n",
       "      <th>L7</th>\n",
       "      <td>0.106987</td>\n",
       "      <td>0.201684</td>\n",
       "      <td>0.030809</td>\n",
       "      <td>0.090913</td>\n",
       "      <td>0.193394</td>\n",
       "      <td>0.349767</td>\n",
       "      <td>0.572213</td>\n",
       "      <td>0.873887</td>\n",
       "    </tr>\n",
       "    <tr>\n",
       "      <th>L8</th>\n",
       "      <td>0.064620</td>\n",
       "      <td>0.158187</td>\n",
       "      <td>0.244326</td>\n",
       "      <td>0.523521</td>\n",
       "      <td>0.856606</td>\n",
       "      <td>1.133679</td>\n",
       "      <td>1.388858</td>\n",
       "      <td>1.652688</td>\n",
       "    </tr>\n",
       "    <tr>\n",
       "      <th>L9</th>\n",
       "      <td>0.009911</td>\n",
       "      <td>0.123291</td>\n",
       "      <td>0.019918</td>\n",
       "      <td>0.073631</td>\n",
       "      <td>0.132659</td>\n",
       "      <td>0.189067</td>\n",
       "      <td>0.227556</td>\n",
       "      <td>0.241788</td>\n",
       "    </tr>\n",
       "    <tr>\n",
       "      <th>L10</th>\n",
       "      <td>0.032271</td>\n",
       "      <td>0.130635</td>\n",
       "      <td>0.047508</td>\n",
       "      <td>0.162100</td>\n",
       "      <td>0.365592</td>\n",
       "      <td>0.695829</td>\n",
       "      <td>1.195594</td>\n",
       "      <td>1.911686</td>\n",
       "    </tr>\n",
       "  </tbody>\n",
       "</table>\n",
       "</div>"
      ],
      "text/plain": [
       "         mean       var  skewness  kurtosis        m5        m6        m7  \\\n",
       "L0   0.117386  0.143803  0.034038  0.051966  0.068505  0.069985  0.056823   \n",
       "L1   0.021542  0.111707  0.010218  0.022103  0.037544  0.071017  0.130934   \n",
       "L2   0.162736  0.028315  0.064048  0.004989  0.075518  0.243867  0.511134   \n",
       "L3   0.002038  0.093723  0.073394  0.216835  0.451836  0.822670  1.400561   \n",
       "L4   0.054838  0.050922  0.063834  0.449967  1.583829  3.766730  7.460591   \n",
       "L5   0.012432  0.088536  0.049801  0.105358  0.160624  0.207967  0.241091   \n",
       "L6   0.014357  0.107800  0.014950  0.069261  0.130192  0.231525  0.367360   \n",
       "L7   0.106987  0.201684  0.030809  0.090913  0.193394  0.349767  0.572213   \n",
       "L8   0.064620  0.158187  0.244326  0.523521  0.856606  1.133679  1.388858   \n",
       "L9   0.009911  0.123291  0.019918  0.073631  0.132659  0.189067  0.227556   \n",
       "L10  0.032271  0.130635  0.047508  0.162100  0.365592  0.695829  1.195594   \n",
       "\n",
       "            m8  \n",
       "L0    0.027823  \n",
       "L1    0.225557  \n",
       "L2    0.902839  \n",
       "L3    2.303755  \n",
       "L4   13.369462  \n",
       "L5    0.265175  \n",
       "L6    0.561099  \n",
       "L7    0.873887  \n",
       "L8    1.652688  \n",
       "L9    0.241788  \n",
       "L10   1.911686  "
      ]
     },
     "execution_count": 197,
     "metadata": {},
     "output_type": "execute_result"
    }
   ],
   "source": [
    "df24"
   ]
  },
  {
   "cell_type": "code",
   "execution_count": 237,
   "metadata": {},
   "outputs": [
    {
     "name": "stdout",
     "output_type": "stream",
     "text": [
      "2 bit QAT after conv\n"
     ]
    },
    {
     "data": {
      "image/png": "[encoded data removed]",
      "text/plain": [
       "<matplotlib.figure.Figure at 0x7f79e4ffe588>"
      ]
     },
     "metadata": {
      "needs_background": "light"
     },
     "output_type": "display_data"
    }
   ],
   "source": [
    "print(\"2 bit QAT after conv\")\n",
    "\n",
    "stats = ['m5', 'm6', 'm7', 'm8']\n",
    "# stats = ['mean', 'var', 'skewness', 'kurtosis']\n",
    "df23 = rel_change_df(pkl_w2, pkl_w3)\n",
    "df24 = rel_change_df(pkl_w2, pkl_w4)\n",
    "df25 = rel_change_df(pkl_w2, pkl_w5)\n",
    "df28 = rel_change_df(pkl_w2, pkl_w8)\n",
    "\n",
    "change23 = [df23[s].mean() for s in stats]\n",
    "change24 = [df24[s].mean() for s in stats]\n",
    "change25 = [df25[s].mean() for s in stats]\n",
    "change28 = [df28[s].mean() for s in stats]\n",
    "\n",
    "ind = np.arange(len(change23))\n",
    "width = 0.15\n",
    "\n",
    "plt.bar(ind, change23, width)\n",
    "plt.bar(ind + width, change24, width)\n",
    "plt.bar(ind + 2*width, change25, width)\n",
    "plt.bar(ind + 3*width, change28, width)\n",
    "\n",
    "plt.ylabel('moments change', fontsize=25)\n",
    "plt.xticks(ind, stats);\n",
    "plt.legend(['3 bit', '4 bit', '5 bit', '8 bit'], loc='upper center', bbox_to_anchor=(0.5, 1.15), ncol=4, fancybox=True, shadow=True);"
   ]
  },
  {
   "cell_type": "code",
   "execution_count": 216,
   "metadata": {},
   "outputs": [
    {
     "data": {
      "text/plain": [
       "dict_keys(['skewness', 'cv', 'kurtosis', 'm8', 'mean', 'var', 'm6', 'm5', 'm7'])"
      ]
     },
     "execution_count": 216,
     "metadata": {},
     "output_type": "execute_result"
    }
   ],
   "source": [
    "pkl_w2_relu = pickle.load(open(os.path.join(ckp_path, 'stats_w2_relu.pkl'), 'rb'))\n",
    "pkl_w3_relu = pickle.load(open(os.path.join(ckp_path, 'stats_w3_relu.pkl'), 'rb'))\n",
    "pkl_w4_relu = pickle.load(open(os.path.join(ckp_path, 'stats_w4_relu.pkl'), 'rb'))\n",
    "pkl_w5_relu = pickle.load(open(os.path.join(ckp_path, 'stats_w5_relu.pkl'), 'rb'))\n",
    "pkl_w8_relu = pickle.load(open(os.path.join(ckp_path, 'stats_w8_relu.pkl'), 'rb'))\n",
    "pkl_w2_relu.keys()"
   ]
  },
  {
   "cell_type": "code",
   "execution_count": 267,
   "metadata": {},
   "outputs": [
    {
     "name": "stdout",
     "output_type": "stream",
     "text": [
      "2 bit QAT after relu\n"
     ]
    },
    {
     "data": {
      "image/png": "[encoded data removed]",
      "text/plain": [
       "<matplotlib.figure.Figure at 0x7f79f34a87b8>"
      ]
     },
     "metadata": {
      "needs_background": "light"
     },
     "output_type": "display_data"
    }
   ],
   "source": [
    "print(\"2 bit QAT after relu\")\n",
    "rcParams['figure.figsize'] = 12, 6\n",
    "stats = ['m5', 'm6', 'm7', 'm8']\n",
    "# stats = ['mean', 'var', 'skewness', 'kurtosis']\n",
    "df23 = rel_change_df(pkl_w2_relu, pkl_w3_relu)\n",
    "df24 = rel_change_df(pkl_w2_relu, pkl_w4_relu)\n",
    "df25 = rel_change_df(pkl_w2_relu, pkl_w5_relu)\n",
    "df28 = rel_change_df(pkl_w2_relu, pkl_w8_relu)\n",
    "\n",
    "change23 = [df23[s].mean() for s in stats]\n",
    "change24 = [df24[s].mean() for s in stats]\n",
    "change25 = [df25[s].mean() for s in stats]\n",
    "change28 = [df28[s].mean() for s in stats]\n",
    "\n",
    "ind = np.arange(len(change23))\n",
    "width = 0.15\n",
    "\n",
    "plt.bar(ind, change23, width)\n",
    "plt.bar(ind + width, change24, width)\n",
    "plt.bar(ind + 2*width, change25, width)\n",
    "plt.bar(ind + 3*width, change28, width)\n",
    "\n",
    "plt.ylabel('moments change', fontsize=25)\n",
    "plt.xticks(ind, stats);\n",
    "plt.legend(['3 bit', '4 bit', '5 bit', '8 bit'], loc='upper center', bbox_to_anchor=(0.5, 1.15), ncol=4, fancybox=True, shadow=True);"
   ]
  },
  {
   "cell_type": "code",
   "execution_count": 232,
   "metadata": {},
   "outputs": [
    {
     "data": {
      "image/png": "[encoded data removed]",
      "text/plain": [
       "<matplotlib.figure.Figure at 0x7f79e137f198>"
      ]
     },
     "metadata": {
      "needs_background": "light"
     },
     "output_type": "display_data"
    }
   ],
   "source": [
    "bits = np.array([2,3,4,5,8])\n",
    "acc = np.array([89.55, 66.89, 73.66, 72.93, 73.35])\n",
    "degradation = acc[0] - acc[1:]\n",
    "\n",
    "ind = np.arange(len(bits) - 1)\n",
    "width = 0.3\n",
    "\n",
    "rcParams['figure.figsize'] = 8, 6\n",
    "plt.bar(ind, degradation, width)\n",
    "plt.ylabel('Accuracy degradation %', fontsize=25)\n",
    "plt.xticks(ind, bits[1:]);"
   ]
  }
 ],
 "metadata": {
  "kernelspec": {
   "display_name": "venv3",
   "language": "python",
   "name": "venv3"
  },
  "language_info": {
   "codemirror_mode": {
    "name": "ipython",
    "version": 3
   },
   "file_extension": ".py",
   "mimetype": "text/x-python",
   "name": "python",
   "nbconvert_exporter": "python",
   "pygments_lexer": "ipython3",
   "version": "3.5.2"
  }
 },
 "nbformat": 4,
 "nbformat_minor": 2
}
