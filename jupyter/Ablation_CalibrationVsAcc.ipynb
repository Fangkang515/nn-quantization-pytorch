{
 "cells": [
  {
   "cell_type": "code",
   "execution_count": null,
   "metadata": {
    "collapsed": true
   },
   "outputs": [],
   "source": [
    "import matplotlib.pyplot as plt\n",
    "import matplotlib\n",
    "from pylab import rcParams\n",
    "\n",
    "CalibrationSizes = [1024,512,256,128,64,32]\n",
    "Resnet18_4_4 = [59.864,59.8,55.442,54.482,54.482,50.4]\n",
    "Resnet18_32_4 = [68.786,68.8,68.322,67.406,67.406,59.338]\n",
    "Resnet18_4_32 = [61.436,63.3,63.3,63.024,63.024,60.55]"
   ]
  },
  {
   "cell_type": "code",
   "execution_count": null,
   "metadata": {},
   "outputs": [],
   "source": [
    "\n",
    "rcParams['figure.figsize'] = 8, 6\n",
    "font = {'weight' : 'normal', 'size': 10, 'weight': 'bold'}\n",
    "matplotlib.rc('font', **font)\n",
    "\n",
    "\n",
    "plt.plot(CalibrationSizes,Resnet18_4_4,label='W/A = 4/4')\n",
    "plt.plot(CalibrationSizes,Resnet18_32_4,label='W/A = 32/4')\n",
    "plt.plot(CalibrationSizes,Resnet18_4_32,label='W/A = 4/32')\n",
    "plt.legend(fontsize=16)\n",
    "plt.xlabel('Calibration set size',fontsize=20)\n",
    "plt.ylabel('Accuracy (%)',fontsize=20)\n",
    "plt.xticks(CalibrationSizes)\n",
    "plt.tight_layout()\n",
    "plt.savefig('../fig/res18_CalibrationVsAcc.pdf')\n"
   ]
  }
 ],
 "metadata": {
  "kernelspec": {
   "display_name": "Python 2",
   "language": "python",
   "name": "python2"
  },
  "language_info": {
   "codemirror_mode": {
    "name": "ipython",
    "version": 2
   },
   "file_extension": ".py",
   "mimetype": "text/x-python",
   "name": "python",
   "nbconvert_exporter": "python",
   "pygments_lexer": "ipython2",
   "version": "2.7.6"
  }
 },
 "nbformat": 4,
 "nbformat_minor": 0
}
